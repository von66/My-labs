{
 "cells": [
  {
   "cell_type": "code",
   "execution_count": null,
   "metadata": {},
   "outputs": [],
   "source": [
    "i = 2+4 "
   ]
  },
  {
   "cell_type": "code",
   "execution_count": 6,
   "metadata": {},
   "outputs": [
    {
     "name": "stdout",
     "output_type": "stream",
     "text": [
      "Hello World!\n"
     ]
    }
   ],
   "source": [
    "print (\"Hello World!\")"
   ]
  },
  {
   "cell_type": "markdown",
   "metadata": {},
   "source": [
    "<p> This is my <b> first Python code </b>."
   ]
  },
  {
   "cell_type": "markdown",
   "metadata": {},
   "source": [
    "https://www.taibahu.edu.sa\n",
    "\n",
    "[click this link]( https://www.taibahu.edu.sa)\n",
    "\n",
    "[click this link]( https://www.taibahu.edu.sa “Taibah\n",
    "University”)"
   ]
  },
  {
   "cell_type": "raw",
   "metadata": {},
   "source": [
    "hello \n",
    "\n",
    "bye "
   ]
  },
  {
   "cell_type": "markdown",
   "metadata": {},
   "source": [
    "# this is my first Lab \n",
    "\n",
    "<center> HI </center>\n",
    "\n",
    "$$c = \\sqrt {a^2 + b^2} $$"
   ]
  },
  {
   "cell_type": "markdown",
   "metadata": {},
   "source": [
    "$$e^{i\\pi} + 1 = 0$$ \n",
    "\n",
    "$$e^x=\\sum_{i=0}^\\infty \\frac{1}{i!}x^i$$\n",
    "\n",
    "$$r'F(k) = \\int_{-\\infty}^{\\infty} f(x) e^{2\\pi i k } dx'$$\n",
    "\n",
    "$$\\begin{pmatrix}\n",
    "1 & a_1 & a_1^2 & \\cdots & a_1^n \\\\ \n",
    "1 & a_2 & a_2^2 & \\cdots & a_2^n \\\\ \n",
    "\\vdots & \\vdots& \\vdots & \\ddots & \\vdots \\\\\n",
    "1 & a_m & a_m^2 & \\cdots & a_m^n \n",
    "\\end{pmatrix}$$\n"
   ]
  },
  {
   "cell_type": "code",
   "execution_count": null,
   "metadata": {},
   "outputs": [],
   "source": []
  }
 ],
 "metadata": {
  "kernelspec": {
   "display_name": "Python 3",
   "language": "python",
   "name": "python3"
  },
  "language_info": {
   "name": ""
  }
 },
 "nbformat": 4,
 "nbformat_minor": 4
}
